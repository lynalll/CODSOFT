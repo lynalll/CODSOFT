{
 "cells": [
  {
   "cell_type": "code",
   "execution_count": 1,
   "id": "da36bbc8-00e4-4520-b652-c280c2ab2171",
   "metadata": {},
   "outputs": [],
   "source": [
    "#MOVIE RATING PREDICTION"
   ]
  },
  {
   "cell_type": "code",
   "execution_count": 2,
   "id": "e1cb7dff-efa3-49ef-8af5-1000b6657d1e",
   "metadata": {},
   "outputs": [],
   "source": [
    "#Neccessary Libraries"
   ]
  },
  {
   "cell_type": "code",
   "execution_count": 3,
   "id": "72216837-5a5d-488b-94c4-1c823e8b2ffb",
   "metadata": {},
   "outputs": [],
   "source": [
    "import pandas as pd\n",
    "from sklearn.model_selection import train_test_split\n",
    "from sklearn.linear_model import LinearRegression\n",
    "from sklearn.metrics import mean_squared_error\n",
    "from sklearn.impute import SimpleImputer\n",
    "import numpy as np\n"
   ]
  },
  {
   "cell_type": "code",
   "execution_count": 4,
   "id": "a8653959-eff4-4661-8740-79d18d9fc1ce",
   "metadata": {},
   "outputs": [
    {
     "name": "stdout",
     "output_type": "stream",
     "text": [
      "                                 Name    Year Duration            Genre  \\\n",
      "0                                         NaN      NaN            Drama   \n",
      "1  #Gadhvi (He thought he was Gandhi)  (2019)  109 min            Drama   \n",
      "2                         #Homecoming  (2021)   90 min   Drama, Musical   \n",
      "3                             #Yaaram  (2019)  110 min  Comedy, Romance   \n",
      "4                   ...And Once Again  (2010)  105 min            Drama   \n",
      "\n",
      "   Rating Votes            Director       Actor 1             Actor 2  \\\n",
      "0     NaN   NaN       J.S. Randhawa      Manmauji              Birbal   \n",
      "1     7.0     8       Gaurav Bakshi  Rasika Dugal      Vivek Ghamande   \n",
      "2     NaN   NaN  Soumyajit Majumdar  Sayani Gupta   Plabita Borthakur   \n",
      "3     4.4    35          Ovais Khan       Prateik          Ishita Raj   \n",
      "4     NaN   NaN        Amol Palekar  Rajat Kapoor  Rituparna Sengupta   \n",
      "\n",
      "           Actor 3  \n",
      "0  Rajendra Bhatia  \n",
      "1    Arvind Jangid  \n",
      "2       Roy Angana  \n",
      "3  Siddhant Kapoor  \n",
      "4      Antara Mali  \n"
     ]
    }
   ],
   "source": [
    "# Reading the dataset with the correct encoding (ISO-8859-1 as the dataset isn't UTF)\n",
    "movies = pd.read_csv('IMDb_Movies_India.csv', encoding='ISO-8859-1')\n",
    "\n",
    "# Display first few rows to ensure it's read correctly\n",
    "print(movies.head())"
   ]
  },
  {
   "cell_type": "code",
   "execution_count": 5,
   "id": "5ea7cf52-79ab-4acb-8de1-888d2bb2ac6a",
   "metadata": {},
   "outputs": [],
   "source": [
    "# Handling missing values for numeric columns and categorical columns"
   ]
  },
  {
   "cell_type": "code",
   "execution_count": 6,
   "id": "f0cadf1d-fc91-4351-a3ad-85a6c172f432",
   "metadata": {},
   "outputs": [
    {
     "name": "stdout",
     "output_type": "stream",
     "text": [
      "Name           0\n",
      "Year         528\n",
      "Duration    8269\n",
      "Genre          0\n",
      "Rating         0\n",
      "Votes       7589\n",
      "Director       0\n",
      "Actor 1     1617\n",
      "Actor 2     2384\n",
      "Actor 3     3144\n",
      "dtype: int64\n"
     ]
    }
   ],
   "source": [
    "# Fill numeric columns (like 'Rating') with median values\n",
    "imputer_median = SimpleImputer(strategy='median')\n",
    "movies['Rating'] = imputer_median.fit_transform(movies[['Rating']]).ravel()\n",
    "\n",
    "# Fill categorical columns with the most frequent value (mode)\n",
    "imputer_mode = SimpleImputer(strategy='most_frequent')\n",
    "\n",
    "# Assuming some categorical columns might have missing values (adjust based on your dataset)\n",
    "movies['Director'] = imputer_mode.fit_transform(movies[['Director']]).ravel()\n",
    "movies['Genre'] = imputer_mode.fit_transform(movies[['Genre']]).ravel()\n",
    "\n",
    "# Check for remaining missing values\n",
    "print(movies.isnull().sum())"
   ]
  },
  {
   "cell_type": "code",
   "execution_count": 7,
   "id": "da848efc-c80a-4949-a60c-ee79a72dcf3b",
   "metadata": {},
   "outputs": [
    {
     "name": "stdout",
     "output_type": "stream",
     "text": [
      "   Rating  Name_#Gadhvi (He thought he was Gandhi)  Name_#Homecoming  \\\n",
      "0     6.0                                    False             False   \n",
      "1     7.0                                     True             False   \n",
      "2     6.0                                    False              True   \n",
      "3     4.4                                    False             False   \n",
      "4     6.0                                    False             False   \n",
      "\n",
      "   Name_#Yaaram  Name_'83  Name_'Ferry'  Name_'Sambandh'  \\\n",
      "0         False     False         False            False   \n",
      "1         False     False         False            False   \n",
      "2         False     False         False            False   \n",
      "3          True     False         False            False   \n",
      "4         False     False         False            False   \n",
      "\n",
      "   Name_...And Once Again  Name_...Aur Pyaar Ho Gaya  Name_...Yahaan  ...  \\\n",
      "0                   False                      False           False  ...   \n",
      "1                   False                      False           False  ...   \n",
      "2                   False                      False           False  ...   \n",
      "3                   False                      False           False  ...   \n",
      "4                    True                      False           False  ...   \n",
      "\n",
      "   Actor 3_Zeenat Aman  Actor 3_Zeeshan Khan  Actor 3_Zeishan Quadri  \\\n",
      "0                False                 False                   False   \n",
      "1                False                 False                   False   \n",
      "2                False                 False                   False   \n",
      "3                False                 False                   False   \n",
      "4                False                 False                   False   \n",
      "\n",
      "   Actor 3_Zenobia Shroff  Actor 3_Zohra  Actor 3_Zoya Hussain  \\\n",
      "0                   False          False                 False   \n",
      "1                   False          False                 False   \n",
      "2                   False          False                 False   \n",
      "3                   False          False                 False   \n",
      "4                   False          False                 False   \n",
      "\n",
      "   Actor 3_Zubeida  Actor 3_Zuber K. Khan  Actor 3_Zulfi Sayed  \\\n",
      "0            False                  False                False   \n",
      "1            False                  False                False   \n",
      "2            False                  False                False   \n",
      "3            False                  False                False   \n",
      "4            False                  False                False   \n",
      "\n",
      "   Actor 3_Zunaid Memon  \n",
      "0                 False  \n",
      "1                 False  \n",
      "2                 False  \n",
      "3                 False  \n",
      "4                 False  \n",
      "\n",
      "[5 rows x 37000 columns]\n"
     ]
    }
   ],
   "source": [
    "# Convert categorical columns into numerical using one-hot encoding\n",
    "\n",
    "# Ensure all categorical columns are properly encoded into numerical values\n",
    "movies_encoded = pd.get_dummies(movies, drop_first=True)  # One-hot encode categorical columns\n",
    "\n",
    "# Check the first few rows of the new dataset\n",
    "print(movies_encoded.head())\n"
   ]
  },
  {
   "cell_type": "code",
   "execution_count": null,
   "id": "84ec063e-bfab-4280-917b-bd3ca3421051",
   "metadata": {},
   "outputs": [],
   "source": [
    "# Define features (X) and the target variable (y)\n",
    "X = movies_encoded.drop(columns=['Rating'])  # Features\n",
    "y = movies_encoded['Rating']  # Target (Movie rating)\n",
    "\n",
    "# Split the dataset into training and testing sets\n",
    "X_train, X_test, y_train, y_test = train_test_split(X, y, test_size=0.2, random_state=42)\n",
    "\n",
    "# Initialize the linear regression model\n",
    "model = LinearRegression()\n",
    "\n",
    "# Train the model using the training data\n",
    "model.fit(X_train, y_train)\n",
    "\n",
    "# Make predictions on the test data\n",
    "y_pred = model.predict(X_test)\n"
   ]
  },
  {
   "cell_type": "code",
   "execution_count": null,
   "id": "10a23356-2aff-427f-a4fc-dbef829e7ac1",
   "metadata": {},
   "outputs": [],
   "source": [
    "# Evaluate the model performance using Mean Squared Error (MSE)\n",
    "mse = mean_squared_error(y_test, y_pred)\n",
    "print(f\"Mean Squared Error: {mse}\")\n",
    "# Create a DataFrame to compare actual and predicted values\n",
    "comparison_df = pd.DataFrame({'Actual': y_test.values[:5], 'Predicted': y_pred[:5]})\n",
    "\n",
    "# Display the DataFrame \n",
    "comparison_df\n"
   ]
  },
  {
   "cell_type": "code",
   "execution_count": null,
   "id": "b4ba6934-a464-49cf-b587-69fd9a80a653",
   "metadata": {},
   "outputs": [],
   "source": []
  }
 ],
 "metadata": {
  "kernelspec": {
   "display_name": "Python 3 (ipykernel)",
   "language": "python",
   "name": "python3"
  },
  "language_info": {
   "codemirror_mode": {
    "name": "ipython",
    "version": 3
   },
   "file_extension": ".py",
   "mimetype": "text/x-python",
   "name": "python",
   "nbconvert_exporter": "python",
   "pygments_lexer": "ipython3",
   "version": "3.12.7"
  }
 },
 "nbformat": 4,
 "nbformat_minor": 5
}
